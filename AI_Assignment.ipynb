{
 "cells": [
  {
   "cell_type": "markdown",
   "id": "95392e55-681f-4a39-8f1a-8b727eb4db8a",
   "metadata": {
    "jp-MarkdownHeadingCollapsed": true
   },
   "source": [
    "# Assignment: Puzzle Solving and Algorithmic Paths\r\n",
    "\r\n",
    "## Introduction\r\n",
    "\r\n",
    "This assignment delves into the fascinating realm of puzzle-solving, leveraging algorithmic approaches to determine the shortest path in a given graph. Fig. 1 serves as a visual representation of multiple routes from the starting point (A) to the solution (S), showcasing various intermediary stages.\r\n",
    "\r\n",
    "## Question 1: Graphs, Trees, and Abstraction\r\n",
    "\r\n",
    "### Graphs vs. Trees (5 points)\r\n",
    "Explore the distinctions between graphs and trees, unraveling the unique characteristics of each.\r\n",
    "\r\n",
    "### Abstraction through Graphs (5 points)\r\n",
    "Examine how the graph in Fig. 1 abstracts the given problem, providing a detailed explanation of this abstraction process.\r\n",
    "\r\n",
    "### Advantages of Visualization (5 points)\r\n",
    "Identify and elucidate the advantages offered by a visual representation like the one depicted in Fig. 1.\r\n",
    "\r\n",
    "### Pathfinding with Dijkstra’s Algorithm (25 points)\r\n",
    "Navigate through the process of employing Dijkstra’s algorithm to determine the shortest path to the solution in Fig. 1. Illuminate each stage with both diagrams and comprehensive written explanations.\r\n"
   ]
  },
  {
   "cell_type": "markdown",
   "id": "f0ed9172-67a3-4f1d-ac67-9d1e43a77eca",
   "metadata": {},
   "source": [
    "# AI_Assignmet\n",
    "## (a) Graph Theory Concepts\n",
    "### (i) Differences between a graph and a tree:\n",
    "### Graph: \n",
    "- Can have cycles (closed loop paths). \n",
    "-  Nodes (also called vertices) may have any number of edges (also called links or connections). \n",
    "- Not inherently hierarchical. \n",
    "- Each node can have multiple parents. \n",
    "### Tree: \n",
    "- Is a special case of a graph. \n",
    "- Does not have cycles. \n",
    "- There is one and only one path between any two nodes. \n",
    "- Hierarchical structure with a single root node. \n",
    "- Each node has exactly one parent, except for the root node, which has none. "
   ]
  },
  {
   "cell_type": "code",
   "execution_count": null,
   "id": "cf6510b7-d177-4448-99ec-38cb4cdc15a6",
   "metadata": {},
   "outputs": [],
   "source": []
  }
 ],
 "metadata": {
  "kernelspec": {
   "display_name": "Python 3 (ipykernel)",
   "language": "python",
   "name": "python3"
  },
  "language_info": {
   "codemirror_mode": {
    "name": "ipython",
    "version": 3
   },
   "file_extension": ".py",
   "mimetype": "text/x-python",
   "name": "python",
   "nbconvert_exporter": "python",
   "pygments_lexer": "ipython3",
   "version": "3.11.4"
  }
 },
 "nbformat": 4,
 "nbformat_minor": 5
}
