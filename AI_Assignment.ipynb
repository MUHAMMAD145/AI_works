{
 "cells": [
  {
   "cell_type": "markdown",
   "id": "95392e55-681f-4a39-8f1a-8b727eb4db8a",
   "metadata": {
    "jp-MarkdownHeadingCollapsed": true
   },
   "source": [
    "# Assignment: Puzzle Solving and Algorithmic Paths\r\n",
    "\r\n",
    "## Introduction\r\n",
    "\r\n",
    "This assignment delves into the fascinating realm of puzzle-solving, leveraging algorithmic approaches to determine the shortest path in a given graph. Fig. 1 serves as a visual representation of multiple routes from the starting point (A) to the solution (S), showcasing various intermediary stages.\r\n",
    "\r\n",
    "## Question 1: Graphs, Trees, and Abstraction\r\n",
    "\r\n",
    "### Graphs vs. Trees (5 points)\r\n",
    "Explore the distinctions between graphs and trees, unraveling the unique characteristics of each.\r\n",
    "\r\n",
    "### Abstraction through Graphs (5 points)\r\n",
    "Examine how the graph in Fig. 1 abstracts the given problem, providing a detailed explanation of this abstraction process.\r\n",
    "\r\n",
    "### Advantages of Visualization (5 points)\r\n",
    "Identify and elucidate the advantages offered by a visual representation like the one depicted in Fig. 1.\r\n",
    "\r\n",
    "### Pathfinding with Dijkstra’s Algorithm (25 points)\r\n",
    "Navigate through the process of employing Dijkstra’s algorithm to determine the shortest path to the solution in Fig. 1. Illuminate each stage with both diagrams and comprehensive written explanations.\r\n"
   ]
  },
  {
   "cell_type": "markdown",
   "id": "f0ed9172-67a3-4f1d-ac67-9d1e43a77eca",
   "metadata": {},
   "source": [
    "# AI_Assignmet\n",
    "## (a) Graph Theory Concepts\n",
    "### (i) Differences between a graph and a tree:\n",
    "### Graph: \n",
    "- Can have cycles (closed loop paths). \n",
    "-  Nodes (also called vertices) may have any number of edges (also called links or connections). \n",
    "- Not inherently hierarchical. \n",
    "- Each node can have multiple parents. \n",
    "### Tree: \n",
    "- Is a special case of a graph. \n",
    "- Does not have cycles. \n",
    "- There is one and only one path between any two nodes. \n",
    "- Hierarchical structure with a single root node. \n",
    "- Each node has exactly one parent, except for the root node, which has none. "
   ]
  },
  {
   "cell_type": "markdown",
   "id": "3376e2b7-fdf6-4cc9-966a-8313c7f21d4e",
   "metadata": {},
   "source": [
    "### (ii) Abstraction of the problem: \n",
    "- The graph is an abstraction of the problem where each node represents a state or stage in the problem-solving process, and the edges represent the possible actions or steps to move from one state to another. The starting point (A) and the solution (S) are specific nodes in the graph, and the problem-solving process involves moving through the graph from A to S following the edges.\n",
    "### (iii) Advantages of using a visualisation: \n",
    "- Clarity: Visualizations make complex relationships easier to understand.\n",
    "-  Problem-Solving: It can help in identifying the most efficient path or detecting if there are multiple solutions.\n",
    "-  Communication: Easier to communicate the structure of the problem to others.\n",
    "-  Analysis: Enables quick identification of nodes and paths that may be critical or redundant. "
   ]
  },
  {
   "cell_type": "markdown",
   "id": "892669da-af13-4599-a2fc-3b435341c0a1",
   "metadata": {},
   "source": [
    "## Q2:Dijkstra Algorithm Path Finding:\n",
    "### (b)Dijkstra's algorithm:\r\n",
    "\r\n",
    "- Dijkstra's algorithm is a greedy algorithm that finds the shortest path between two nodes in a graph. The algorithm works by expanding a frontier of nodes that have been visited but not yet explored. At each step, the algorithm chooses the node in the frontier with the lowest cost and expands it. The algorithm terminates when the destination node is reached.\r\n",
    "\r\n",
    "### Implementing Dijkstra's algorithm to find the shortest path in Fig. 1:\r\n",
    "\r\n",
    "- Step 1: Initialize the frontier with the start node (A).\r\n",
    "\r\n",
    "- Step 2: While the frontier is not empty:\r\n",
    "  - Choose the node in the frontier with the lowest cost.\r\n",
    "  - Expand the node by adding all of its neighbors to the frontier.\r\n",
    "  - Update the cost of each neighbor if a shorter path to it has been found.\r\n",
    "\r\n",
    "- Step 3: When the destination node (S) is reached, the algorithm terminates. The shortest path to the destination node is the path from the start node to the destination node that passes through all of the nodes in the frontier.\r\n",
    "\r\n",
    "### Diagram of Dijkstra's algorithm in action:\r\n",
    "\r\n",
    "                    A\r\n",
    "                   / \\\r\n",
    "                  B   C\r\n",
    "                 /   \\\r\n",
    "                D     E\r\n",
    "                \\   /\r\n",
    "                 F   G\r\n",
    "                  \\ /\r\n",
    "                   H\r\n",
    "                   / \\\r\n",
    "                  I   S\r\n",
    "\r\n",
    "- Step 1: The frontier is initialized with the start node (A).\r\n",
    "\r\n",
    "- Step 2: The node A is expanded, and its neighbors (B and C) are added to the frontier. The cost of each neighbor is updated to be the distance from the start node.\r\n",
    "\r\n",
    "- Step 3: The node B is expanded, and its neighbor (D) is added to the frontier. The cost of node D is updated to be the distance from the start node.\r\n",
    "\r\n",
    "- Step 4: The node C is expanded, and its neighbor (E) is added to the frontier. The cost of node E is updated to be the distance from the start node.\r\n",
    "\r\n",
    "- Step 5: The node D is expanded, and its neighbors (F and G) are added to the frontier. The cost of nodes F and G is updated to be the distance from the start node.\r\n",
    "\r\n",
    "- Step 6: The node F is expanded, and its neighbors (H) are added to the frontier. The cost of node H is updated to be the distance from the start node.\r\n",
    "\r\n",
    "- Step 7: The node H is expanded, and its neighbors (I and S) are added to the frontier. The cost of nodes I and S is updated to be the distance from the start node.\r\n",
    "\r\n",
    "- Step 8: The destination node (S) has been reached, so the algorithm terminates.\r\n",
    "\r\n",
    "The shortest path to the destination node (S) is the path from the start node (A) to the destination node that passes through all of the nodes in the frontier: A -> B -> D -> F -> H -> I -> S.\r\n",
    "ode that passes through all of the nodes in the frontier: A -> B -> D -> F -> H -> I -> S.\r\n",
    "\r\n"
   ]
  },
  {
   "cell_type": "code",
   "execution_count": null,
   "id": "99db8250-d82a-428c-851a-450eddd5e46d",
   "metadata": {},
   "outputs": [],
   "source": []
  }
 ],
 "metadata": {
  "kernelspec": {
   "display_name": "Python 3 (ipykernel)",
   "language": "python",
   "name": "python3"
  },
  "language_info": {
   "codemirror_mode": {
    "name": "ipython",
    "version": 3
   },
   "file_extension": ".py",
   "mimetype": "text/x-python",
   "name": "python",
   "nbconvert_exporter": "python",
   "pygments_lexer": "ipython3",
   "version": "3.11.4"
  }
 },
 "nbformat": 4,
 "nbformat_minor": 5
}
